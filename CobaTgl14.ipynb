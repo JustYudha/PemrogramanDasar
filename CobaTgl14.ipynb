{
 "cells": [
  {
   "cell_type": "code",
   "execution_count": 11,
   "metadata": {},
   "outputs": [
    {
     "name": "stdout",
     "output_type": "stream",
     "text": [
      "Suhu tubuh di atas normal.\n",
      "Cukup Istirahat Saja.\n",
      "Detak jantung normal, perbanyak istirahat dan minum cairan.\n"
     ]
    }
   ],
   "source": [
    "# Input suhu tubuh dalam derajat Celsius\n",
    "suhu_tubuh = float(input(\"Masukan Suhu Tubuh: \"))\n",
    "\n",
    "# Input detak jantung per menit\n",
    "detak_jantung = int(input(\"Masukan Detak Jantung: \"))\n",
    "\n",
    "# Mengecek apakah suhu tubuh di atas normal\n",
    "if suhu_tubuh > 37.5:\n",
    "    print(\"Suhu tubuh di atas normal.\")\n",
    "    \n",
    "    # Mengecek apakah suhu tubuh sangat tinggi\n",
    "    if (suhu_tubuh > 39) & (suhu_tubuh < 50) :\n",
    "        print(\"Harus Segera di Rawat.\")   \n",
    "    # Mengecek detak jantung jika suhu tubuh tidak terlalu tinggi\n",
    "    else:\n",
    "        print(\"Cukup Istirahat Saja.\")\n",
    "        # Mengecek apakah detak jantung terlalu tinggi\n",
    "        if detak_jantung > 100:\n",
    "            print(\"Detak jantung terlalu tinggi, butuh pemeriksaan lebih lanjut.\")\n",
    "        else:\n",
    "            print(\"Detak jantung normal, perbanyak istirahat dan minum cairan.\")\n",
    "else:\n",
    "    print(\"Suhu tubuh normal, tidak ada tindakan khusus yang diperlukan.\")\n"
   ]
  },
  {
   "cell_type": "code",
   "execution_count": 1,
   "metadata": {},
   "outputs": [
    {
     "name": "stdout",
     "output_type": "stream",
     "text": [
      "Yudha\n",
      "Suhu tubuh di atas normal.\n",
      "Harus Segera di Rawat.\n"
     ]
    }
   ],
   "source": [
    "Nama = input(\"Masukan Nama: \")\n",
    "Angka = int(input(\"Masukan Angka 1-4: \"))\n",
    "\n",
    "match Angka:\n",
    "    case 1 :\n",
    "        print(Nama)\n",
    "        # Input suhu tubuh dalam derajat Celsius\n",
    "        suhu_tubuh = float(input(\"Masukan Suhu Tubuh: \"))\n",
    "\n",
    "        # Input detak jantung per menit\n",
    "        detak_jantung = int(input(\"Masukan Detak Jantung: \"))\n",
    "\n",
    "        # Mengecek apakah suhu tubuh di atas normal\n",
    "        if suhu_tubuh > 37.5:\n",
    "            print(\"Suhu tubuh di atas normal.\")\n",
    "            \n",
    "            # Mengecek apakah suhu tubuh sangat tinggi\n",
    "            if (suhu_tubuh > 39) & (suhu_tubuh < 50) :\n",
    "                print(\"Harus Segera di Rawat.\")   \n",
    "            # Mengecek detak jantung jika suhu tubuh tidak terlalu tinggi\n",
    "            else:\n",
    "                print(\"Cukup Istirahat Saja.\")\n",
    "                # Mengecek apakah detak jantung terlalu tinggi\n",
    "                if detak_jantung > 100:\n",
    "                    print(\"Detak jantung terlalu tinggi, butuh pemeriksaan lebih lanjut.\")\n",
    "                else:\n",
    "                    print(\"Detak jantung normal, perbanyak istirahat dan minum cairan.\")\n",
    "        else:\n",
    "            print(\"Suhu tubuh normal, tidak ada tindakan khusus yang diperlukan.\")\n",
    "    case 2:\n",
    "        print(Nama )\n",
    "        \n",
    "    case 3:\n",
    "        print(\"Masih Kosong hehe. \")\n",
    "    case _:\n",
    "        print(\"Masukan angka yang valid\")\n",
    "\n"
   ]
  }
 ],
 "metadata": {
  "kernelspec": {
   "display_name": "Python 3",
   "language": "python",
   "name": "python3"
  },
  "language_info": {
   "codemirror_mode": {
    "name": "ipython",
    "version": 3
   },
   "file_extension": ".py",
   "mimetype": "text/x-python",
   "name": "python",
   "nbconvert_exporter": "python",
   "pygments_lexer": "ipython3",
   "version": "3.12.6"
  }
 },
 "nbformat": 4,
 "nbformat_minor": 2
}
