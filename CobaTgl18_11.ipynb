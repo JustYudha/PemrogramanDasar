{
 "cells": [
  {
   "cell_type": "code",
   "execution_count": 1,
   "metadata": {},
   "outputs": [
    {
     "name": "stdout",
     "output_type": "stream",
     "text": [
      "nama saya Yudha, umur saya 22, kota kelahiran saya Kopo\n"
     ]
    }
   ],
   "source": [
    "my_dict = {}\n",
    "\n",
    "my_dict = {'nama': 'Yudha', 'usia': 22, 'kota' : 'Kopo'}\n",
    "\n",
    "nama = (my_dict['nama'])\n",
    "usia = (my_dict['usia'])\n",
    "kota = (my_dict['kota'])\n",
    "\n",
    "print(f'nama saya {nama}, umur saya {usia}, kota kelahiran saya {kota}')"
   ]
  },
  {
   "cell_type": "code",
   "execution_count": null,
   "metadata": {},
   "outputs": [],
   "source": [
    "my_dict = {'nama': 'Yudha', 'usia': 22, 'kota' : 'Kopo'}\n",
    "\n",
    "#Menambahkan item baru \n",
    "my_dict['pekerjaan'] = 'Pemikir'\n",
    "\n",
    "#Memodifikasi item yang sudah ada\n",
    "my_dict['usia'] = 17\n",
    "\n",
    "#Menghapus item dengan del\n",
    "del my_dict['kota']\n",
    "\n",
    "#Menghapus item dengan pop\n",
    "usia = my_dict.pop('kota')\n",
    "\n"
   ]
  },
  {
   "cell_type": "code",
   "execution_count": null,
   "metadata": {},
   "outputs": [],
   "source": [
    "#Mengupdate 2 array asalkan key nya sama\n",
    "dict1 = {'a' : 1, 'b' : 3}\n",
    "dict2 = {'b' : 5, 'b' : 6}\n",
    "dict1.update(dict2)"
   ]
  },
  {
   "cell_type": "code",
   "execution_count": 2,
   "metadata": {},
   "outputs": [
    {
     "name": "stdout",
     "output_type": "stream",
     "text": [
      "nama Yudha\n",
      "usia 22\n",
      "kota Kopo\n"
     ]
    }
   ],
   "source": [
    "#Perulangan \n",
    "#perulangan dengan jumlah key \n",
    "for i in my_dict:\n",
    "    print(i,my_dict[i])\n"
   ]
  },
  {
   "cell_type": "code",
   "execution_count": null,
   "metadata": {},
   "outputs": [
    {
     "name": "stdout",
     "output_type": "stream",
     "text": [
      "Yudhayudis\n",
      "22\n",
      "Kopo\n"
     ]
    }
   ],
   "source": [
    "#Perulangan dengan values\n",
    "for i in my_dict.values():\n",
    "    print(i)"
   ]
  },
  {
   "cell_type": "code",
   "execution_count": 9,
   "metadata": {},
   "outputs": [
    {
     "name": "stdout",
     "output_type": "stream",
     "text": [
      "nama Yudhayudis\n",
      "usia 22\n",
      "kota Kopo\n"
     ]
    }
   ],
   "source": [
    "for a, y in my_dict.items():\n",
    "    print(a,y)"
   ]
  },
  {
   "cell_type": "code",
   "execution_count": null,
   "metadata": {},
   "outputs": [
    {
     "name": "stdout",
     "output_type": "stream",
     "text": [
      "Nama Orang ke 1 adalah Yudha dengan usia 17\n",
      "Nama Orang ke 1 adalah udin dengan usia 18\n"
     ]
    }
   ],
   "source": [
    "dictionry_banyak = {\n",
    "    'orang1' : {'nama' : 'Yudha', 'usia' :  17},\n",
    "    'orang2' : {'nama' : 'udin' , 'usia' :  18}\n",
    "}\n",
    "\n",
    "nama1 = (dictionry_banyak['orang1']['nama'])\n",
    "usia1 = (dictionry_banyak['orang1']['usia'])\n",
    "nama2 = (dictionry_banyak['orang2']['nama'])\n",
    "usia2 = (dictionry_banyak['orang2']['usia'])\n",
    "\n",
    "print(f\"Nama Orang ke 1 adalah {nama1} dengan usia {usia1}\")\n",
    "print(f\"Nama Orang ke 1 adalah {nama2} dengan usia {usia2}\")"
   ]
  },
  {
   "cell_type": "code",
   "execution_count": 18,
   "metadata": {},
   "outputs": [
    {
     "name": "stdout",
     "output_type": "stream",
     "text": [
      "\n",
      "ID Orang: orang1\n",
      "Nama: Yudha\n",
      "\n",
      "ID Orang: orang2\n",
      "Nama: udin\n"
     ]
    }
   ],
   "source": [
    "#iterasi melalui dictionry bersarang\n",
    "for a, y in dictionry_banyak.items():\n",
    "    print(f\"\\nID Orang: {a}\")\n",
    "    print(f\"Nama: {y['nama']}\")"
   ]
  }
 ],
 "metadata": {
  "kernelspec": {
   "display_name": "Python 3",
   "language": "python",
   "name": "python3"
  },
  "language_info": {
   "codemirror_mode": {
    "name": "ipython",
    "version": 3
   },
   "file_extension": ".py",
   "mimetype": "text/x-python",
   "name": "python",
   "nbconvert_exporter": "python",
   "pygments_lexer": "ipython3",
   "version": "3.12.6"
  }
 },
 "nbformat": 4,
 "nbformat_minor": 2
}
