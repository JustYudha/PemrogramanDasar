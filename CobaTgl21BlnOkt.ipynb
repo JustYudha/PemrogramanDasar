{
 "cells": [
  {
   "cell_type": "code",
   "execution_count": 1,
   "metadata": {},
   "outputs": [
    {
     "name": "stdout",
     "output_type": "stream",
     "text": [
      "perulangan ke 1\n",
      "perulangan ke 2\n",
      "perulangan ke 3\n",
      "perulangan ke 4\n",
      "perulangan ke 5\n",
      "perulangan ke 6\n",
      "perulangan ke 7\n",
      "Akhirnya no 7 ketemu\n"
     ]
    }
   ],
   "source": [
    "found = False\n",
    "i = 0\n",
    "while not found:\n",
    "    if i == 7:\n",
    "        found = True\n",
    "        print(\"Akhirnya no 7 ketemu\")\n",
    "    else:\n",
    "        i += 1\n",
    "        print(f\"perulangan ke {i}\")"
   ]
  },
  {
   "cell_type": "code",
   "execution_count": 6,
   "metadata": {},
   "outputs": [
    {
     "ename": "TypeError",
     "evalue": "'tuple' object is not callable",
     "output_type": "error",
     "traceback": [
      "\u001b[1;31m---------------------------------------------------------------------------\u001b[0m",
      "\u001b[1;31mTypeError\u001b[0m                                 Traceback (most recent call last)",
      "Cell \u001b[1;32mIn[6], line 4\u001b[0m\n\u001b[0;32m      1\u001b[0m A \u001b[38;5;241m=\u001b[39m (\u001b[38;5;124m\"\u001b[39m\u001b[38;5;124mJupiter\u001b[39m\u001b[38;5;124m\"\u001b[39m,\u001b[38;5;124m\"\u001b[39m\u001b[38;5;124mMars\u001b[39m\u001b[38;5;124m\"\u001b[39m,\u001b[38;5;124m\"\u001b[39m\u001b[38;5;124mPluto\u001b[39m\u001b[38;5;124m\"\u001b[39m,\u001b[38;5;124m\"\u001b[39m\u001b[38;5;124mSaturnus\u001b[39m\u001b[38;5;124m\"\u001b[39m)\n\u001b[1;32m----> 4\u001b[0m \u001b[38;5;28mprint\u001b[39m(\u001b[43mA\u001b[49m\u001b[43m(\u001b[49m\u001b[38;5;241;43m0\u001b[39;49m\u001b[43m)\u001b[49m)\n",
      "\u001b[1;31mTypeError\u001b[0m: 'tuple' object is not callable"
     ]
    }
   ],
   "source": [
    "A = (\"Jupiter\",\"Mars\",\"Pluto\",\"Saturnus\")\n",
    "\n",
    "\n",
    "print(A)\n",
    "\n",
    "#tuple hanya bisa diakses via indeks\n",
    "#tuple tidak bisa diubah via indeks\n",
    "#tuple tidak bisa ditambah anggota baru atau dikurangi\n",
    "#tuple tidak harus unilk"
   ]
  },
  {
   "cell_type": "code",
   "execution_count": null,
   "metadata": {},
   "outputs": [],
   "source": [
    "#list\n",
    "\n",
    "Merk = ['Mercy','BMW','Nissan']\n",
    "\n",
    "#Menambahkan elemen ke dalam list sesuai angka\n",
    "Merk.insert(0,\"toyota\")\n",
    "#Menambahkan elemen ke dalam list tapi menjadi bagian akhir\n",
    "Merk.append('Lamborghini')\n",
    "\n",
    "#Mengakses elemen\n",
    "print(Merk[0])\n",
    "\n",
    "#Mengubah elemen\n",
    "Merk[1] = 'Apawe'\n",
    "\n",
    "#Menghapus elemen\n",
    "Merk.remove('BMW')\n",
    "\n",
    "\n"
   ]
  },
  {
   "cell_type": "code",
   "execution_count": 14,
   "metadata": {},
   "outputs": [
    {
     "name": "stdout",
     "output_type": "stream",
     "text": [
      "('apple', 'cherry')\n"
     ]
    }
   ],
   "source": [
    "buahbuahan = ['apple','BAnana','cherry']\n",
    "pilihan = buahbuahan[0],buahbuahan[2]\n",
    "\n",
    "print (pilihan)\n"
   ]
  },
  {
   "cell_type": "code",
   "execution_count": 19,
   "metadata": {},
   "outputs": [
    {
     "name": "stdout",
     "output_type": "stream",
     "text": [
      "Orang aneh ke 0 adalah roji\n",
      "Orang aneh ke 1 adalah cio\n",
      "Orang aneh ke 2 adalah opik\n",
      "Orang aneh ke 3 adalah indra\n"
     ]
    }
   ],
   "source": [
    "#For Loop dengan list\n",
    "OrangAneh = ['roji','cio','opik','indra']\n",
    "\n",
    "for i in range (0,4):\n",
    "    print(f\"Orang aneh ke {i} adalah {OrangAneh[i]}\")"
   ]
  },
  {
   "cell_type": "code",
   "execution_count": 22,
   "metadata": {},
   "outputs": [
    {
     "name": "stdout",
     "output_type": "stream",
     "text": [
      "bauahnya adalah apple\n",
      "bauahnya adalah cherry\n"
     ]
    }
   ],
   "source": [
    "#List\n",
    "buahbuahan = ['apple','banan','cherry']\n",
    "i=0\n",
    "buahbuahan.insert(0,\"mangga\")\n",
    "\n",
    "#Iterasi menggunakan while\n",
    "while i < len(buahbuahan):\n",
    "    i += 1\n",
    "    print(f\"bauahnya adalah {buahbuahan[i]}\")\n",
    "    i += 1"
   ]
  }
 ],
 "metadata": {
  "kernelspec": {
   "display_name": "Python 3",
   "language": "python",
   "name": "python3"
  },
  "language_info": {
   "codemirror_mode": {
    "name": "ipython",
    "version": 3
   },
   "file_extension": ".py",
   "mimetype": "text/x-python",
   "name": "python",
   "nbconvert_exporter": "python",
   "pygments_lexer": "ipython3",
   "version": "3.12.6"
  }
 },
 "nbformat": 4,
 "nbformat_minor": 2
}
