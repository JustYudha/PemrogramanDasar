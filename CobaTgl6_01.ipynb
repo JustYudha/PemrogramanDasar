{
 "cells": [
  {
   "cell_type": "code",
   "execution_count": 1,
   "metadata": {},
   "outputs": [
    {
     "name": "stdout",
     "output_type": "stream",
     "text": [
      "Ditemukan ['2022']\n"
     ]
    }
   ],
   "source": [
    "import re \n",
    "\n",
    "#mencari dan mengekstraksi angka dari sebuah string\n",
    "text = \"Tahun 2022 adalah tahun yang baik\"\n",
    "pattern = r\"\\d+\"\n",
    "matches = re.findall(pattern,text)\n",
    "\n",
    "if matches :\n",
    "    print(\"Ditemukan\", matches)\n",
    "else:\n",
    "    print(\"Tidak Ditemukan\")"
   ]
  },
  {
   "cell_type": "code",
   "execution_count": 2,
   "metadata": {},
   "outputs": [
    {
     "name": "stdout",
     "output_type": "stream",
     "text": [
      "Hasil Saya suka makan Apple\n"
     ]
    }
   ],
   "source": [
    "import re\n",
    "\n",
    "#Mengganti kata 'apple' dengan 'orange'\\\n",
    "text = \"Saya suka makan Apple\"\n",
    "pattern = r\"apple\"\n",
    "replacment = \"orange\"\n",
    "result = re.sub(pattern, replacment, text)\n",
    "\n",
    "print(\"Hasil\", result)"
   ]
  },
  {
   "cell_type": "code",
   "execution_count": null,
   "metadata": {},
   "outputs": [],
   "source": [
    "import re\n",
    "\n",
    "# String yang akan diuji\n",
    "text = \" is powerful Python.\"\n",
    "\n",
    "# Pola yang dicocokkan di awal string\n",
    "pattern = r\"Python\"\n",
    "\n",
    "# Menggunakan re.match() untuk mencocokkan pola di awal string\n",
    "match = re.match(pattern, text)\n",
    "\n",
    "# Memeriksa apakah ada kecocokan di awal string\n",
    "if match:\n",
    "    print(\"Ditemukan di awal string:\", match.group())\n",
    "else:\n",
    "    print(\"Tidak ditemukan di awal string.\")"
   ]
  },
  {
   "cell_type": "code",
   "execution_count": null,
   "metadata": {},
   "outputs": [],
   "source": [
    "# Mencocokkan kata \"Python\" dalam sebuah string\n",
    "import re\n",
    "\n",
    "text = \"Saya suka belajar Python.\"\n",
    "pattern = r\"Python\"\n",
    "match = re.search(pattern, text)\n",
    "\n",
    "if match:\n",
    "    print(\"Ditemukan:\", match.group())\n",
    "else:\n",
    "    print(\"Tidak ditemukan.\")"
   ]
  },
  {
   "cell_type": "code",
   "execution_count": null,
   "metadata": {},
   "outputs": [],
   "source": [
    "import re\n",
    "\n",
    "#Meminta pengguna memasukan email\n",
    "email =  input(\"Masukan email\")\n",
    "\n",
    "#Regex untuk mevalidasi email\n",
    "email_regex = r'^[a-zA-Z0-9._%+-]+@[a-zA-Z0-9"
   ]
  }
 ],
 "metadata": {
  "kernelspec": {
   "display_name": "Python 3",
   "language": "python",
   "name": "python3"
  },
  "language_info": {
   "codemirror_mode": {
    "name": "ipython",
    "version": 3
   },
   "file_extension": ".py",
   "mimetype": "text/x-python",
   "name": "python",
   "nbconvert_exporter": "python",
   "pygments_lexer": "ipython3",
   "version": "3.12.6"
  }
 },
 "nbformat": 4,
 "nbformat_minor": 2
}
