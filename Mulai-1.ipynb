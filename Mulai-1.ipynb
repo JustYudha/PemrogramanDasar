{
 "cells": [
  {
   "cell_type": "code",
   "execution_count": 23,
   "metadata": {},
   "outputs": [
    {
     "name": "stdout",
     "output_type": "stream",
     "text": [
      "Kamu Kenapa: Aku Knock\n"
     ]
    }
   ],
   "source": [
    "a = \"Aku\"\n",
    "b = \" Knock\"\n",
    "hasil = a + b\n",
    "print(\"Kamu Kenapa:\", hasil)"
   ]
  },
  {
   "cell_type": "code",
   "execution_count": null,
   "metadata": {},
   "outputs": [],
   "source": [
    "Nama = input(\"Masukan Nama:\")\n",
    "Kelas = input(\"Masukan Kelas:\")\n",
    "Matkul = input(\"Masukan MAtkul:\")\n",
    "Usia = int(input(\"Masukan Usia:\"))\n",
    "BB = float(input(\"Masukan Berat Badan:\"))\n",
    "print(\"Nama: \",Nama,)\n",
    "print(\"Kelas: \",Kelas,)\n",
    "print(\"Matkul: \",Matkul)\n",
    "print(\"Usia: \", Usia )\n",
    "print(\"BeratBadan: \",BB)"
   ]
  },
  {
   "cell_type": "code",
   "execution_count": null,
   "metadata": {},
   "outputs": [],
   "source": [
    "Angka = int(input(\"Masukan Angka\"))\n",
    "print(Angka)\n",
    "type(Angka)\n"
   ]
  },
  {
   "cell_type": "code",
   "execution_count": null,
   "metadata": {},
   "outputs": [],
   "source": [
    "nama = \"Yudha Robertstein\"\n",
    "nilai = 99\n",
    "\n",
    "print(f\"Pemenang: {nama}, Skor: {nilai}\")"
   ]
  },
  {
   "cell_type": "code",
   "execution_count": null,
   "metadata": {},
   "outputs": [],
   "source": [
    "nama = \"Yudha Robertstein\"\n",
    "nilai = 99\n",
    "\n",
    "print(\"Pemenang:\",nama,\" Skor:\",nilai)"
   ]
  },
  {
   "cell_type": "code",
   "execution_count": null,
   "metadata": {},
   "outputs": [],
   "source": [
    "nama = \"Yudha Robertstein\"\n",
    "nilai = 99\n",
    "\n",
    "print(\"Pemenang: {}, Usia: {}\". format(nama, nilai))"
   ]
  }
 ],
 "metadata": {
  "kernelspec": {
   "display_name": "Python 3",
   "language": "python",
   "name": "python3"
  },
  "language_info": {
   "codemirror_mode": {
    "name": "ipython",
    "version": 3
   },
   "file_extension": ".py",
   "mimetype": "text/x-python",
   "name": "python",
   "nbconvert_exporter": "python",
   "pygments_lexer": "ipython3",
   "version": "3.12.6"
  }
 },
 "nbformat": 4,
 "nbformat_minor": 2
}
