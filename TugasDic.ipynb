{
 "cells": [
  {
   "cell_type": "code",
   "execution_count": 1,
   "metadata": {},
   "outputs": [
    {
     "name": "stdout",
     "output_type": "stream",
     "text": [
      "Jumlah sampah anorganik: 250 kg\n",
      "Lokasi pembuangan sampah B3: Tempat Pengelolaan B3\n"
     ]
    }
   ],
   "source": [
    "# Soal 1: Membuat dan Mengakses Dictionary\n",
    "data_sampah = {\n",
    "    \"organik\": {\"jumlah\": 120, \"lokasi\": \"TPA Organik\"},\n",
    "    \"anorganik\": {\"jumlah\": 250, \"lokasi\": \"Pusat Daur Ulang\"},\n",
    "    \"B3\": {\"jumlah\": 60, \"lokasi\": \"Tempat Pengelolaan B3\"}\n",
    "}\n",
    "\n",
    "# Cetak jumlah sampah anorganik dan lokasi pembuangan sampah B3\n",
    "print(f\"Jumlah sampah anorganik: {data_sampah['anorganik']['jumlah']} kg\")\n",
    "print(f\"Lokasi pembuangan sampah B3: {data_sampah['B3']['lokasi']}\")\n",
    "\n"
   ]
  },
  {
   "cell_type": "code",
   "execution_count": 2,
   "metadata": {},
   "outputs": [
    {
     "name": "stdout",
     "output_type": "stream",
     "text": [
      "\n",
      "Data sampah setelah pembaruan:\n",
      "Organik: {'jumlah': 130, 'lokasi': 'TPA Organik'}\n",
      "Anorganik: {'jumlah': 250, 'lokasi': 'Pusat Daur Ulang'}\n",
      "B3: {'jumlah': 60, 'lokasi': 'Tempat Pengelolaan B3'}\n",
      "Elektronik: {'jumlah': 40, 'lokasi': 'Pusat Pengelolaan Elektronik'}\n"
     ]
    }
   ],
   "source": [
    "# Soal 2: Menambah dan Memodifikasi Data dalam Dictionary\n",
    "# Menambahkan sampah elektronik\n",
    "data_sampah[\"elektronik\"] = {\"jumlah\": 40, \"lokasi\": \"Pusat Pengelolaan Elektronik\"}\n",
    "\n",
    "# Memperbarui jumlah sampah organik\n",
    "data_sampah[\"organik\"][\"jumlah\"] = 130\n",
    "\n",
    "# Cetak seluruh dictionary setelah pembaruan\n",
    "print(\"\\nData sampah setelah pembaruan:\")\n",
    "for jenis, info in data_sampah.items():\n",
    "    print(f\"{jenis.capitalize()}: {info}\")\n"
   ]
  },
  {
   "cell_type": "code",
   "execution_count": 3,
   "metadata": {},
   "outputs": [
    {
     "name": "stdout",
     "output_type": "stream",
     "text": [
      "\n",
      "Analisis jumlah sampah:\n",
      "Pengelolaan intensif diperlukan untuk organik.\n",
      "Pengelolaan intensif diperlukan untuk anorganik.\n",
      "B3 dalam batas aman.\n",
      "Elektronik dalam batas aman.\n"
     ]
    }
   ],
   "source": [
    "# Soal 3: Menambah if-else\n",
    "print(\"\\nAnalisis jumlah sampah:\")\n",
    "for jenis, info in data_sampah.items():\n",
    "    if info[\"jumlah\"] > 100:\n",
    "        print(f\"Pengelolaan intensif diperlukan untuk {jenis}.\")\n",
    "    else:\n",
    "        print(f\"{jenis.capitalize()} dalam batas aman.\")\n"
   ]
  }
 ],
 "metadata": {
  "kernelspec": {
   "display_name": "Python 3",
   "language": "python",
   "name": "python3"
  },
  "language_info": {
   "codemirror_mode": {
    "name": "ipython",
    "version": 3
   },
   "file_extension": ".py",
   "mimetype": "text/x-python",
   "name": "python",
   "nbconvert_exporter": "python",
   "pygments_lexer": "ipython3",
   "version": "3.12.6"
  }
 },
 "nbformat": 4,
 "nbformat_minor": 2
}
