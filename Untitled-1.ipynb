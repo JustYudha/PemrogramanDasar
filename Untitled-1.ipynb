{
 "cells": [
  {
   "cell_type": "code",
   "execution_count": 23,
   "metadata": {},
   "outputs": [
    {
     "name": "stdout",
     "output_type": "stream",
     "text": [
      "Kamu Kenapa: Aku Knock\n"
     ]
    }
   ],
   "source": [
    "a = \"Aku\"\n",
    "b = \" Knock\"\n",
    "hasil = a + b\n",
    "print(\"Kamu Kenapa:\", hasil)"
   ]
  },
  {
   "cell_type": "code",
   "execution_count": null,
   "metadata": {},
   "outputs": [],
   "source": [
    "Nama = input(\"Masukan Nama:\")\n",
    "Kelas = input(\"Masukan Kelas:\")\n",
    "Matkul = input(\"Masukan MAtkul:\")\n",
    "Usia = int(input(\"Masukan Usia:\"))\n",
    "BB = float(input(\"Masukan Berat Badan:\"))\n",
    "print(\"Nama: \",Nama,)\n",
    "print(\"Kelas: \",Kelas,)\n",
    "print(\"Matkul: \",Matkul)\n",
    "print(\"Usia: \", Usia )\n",
    "print(\"BeratBadan: \",BB)"
   ]
  },
  {
   "cell_type": "code",
   "execution_count": null,
   "metadata": {},
   "outputs": [
    {
     "data": {
      "text/html": [
       "<div>\n",
       "<style scoped>\n",
       "    .dataframe tbody tr th:only-of-type {\n",
       "        vertical-align: middle;\n",
       "    }\n",
       "\n",
       "    .dataframe tbody tr th {\n",
       "        vertical-align: top;\n",
       "    }\n",
       "\n",
       "    .dataframe thead th {\n",
       "        text-align: right;\n",
       "    }\n",
       "</style>\n",
       "<table border=\"1\" class=\"dataframe\">\n",
       "  <thead>\n",
       "    <tr style=\"text-align: right;\">\n",
       "      <th></th>\n",
       "      <th>Jenis</th>\n",
       "      <th>Berat (Kg)</th>\n",
       "      <th>Daur Ulang</th>\n",
       "    </tr>\n",
       "  </thead>\n",
       "  <tbody>\n",
       "    <tr>\n",
       "      <th>0</th>\n",
       "      <td>Plastik</td>\n",
       "      <td>5</td>\n",
       "      <td>True</td>\n",
       "    </tr>\n",
       "    <tr>\n",
       "      <th>1</th>\n",
       "      <td>Kertas</td>\n",
       "      <td>4</td>\n",
       "      <td>True</td>\n",
       "    </tr>\n",
       "    <tr>\n",
       "      <th>2</th>\n",
       "      <td>Logam</td>\n",
       "      <td>3</td>\n",
       "      <td>True</td>\n",
       "    </tr>\n",
       "    <tr>\n",
       "      <th>3</th>\n",
       "      <td>Kaca</td>\n",
       "      <td>2</td>\n",
       "      <td>False</td>\n",
       "    </tr>\n",
       "  </tbody>\n",
       "</table>\n",
       "</div>"
      ],
      "text/plain": [
       "     Jenis Berat (Kg) Daur Ulang\n",
       "0  Plastik          5       True\n",
       "1   Kertas          4       True\n",
       "2    Logam          3       True\n",
       "3     Kaca          2      False"
      ]
     },
     "execution_count": 5,
     "metadata": {},
     "output_type": "execute_result"
    }
   ],
   "source": [
    "import numpy as np\n",
    "import pandas as pd\n",
    "\n",
    "data_list = np.array([    \n",
    "    ['Plastik', 5, True],\n",
    "    ['Kertas', 4, True],\n",
    "    ['Logam', 3, True],\n",
    "    ['Kaca', 2, False]\n",
    "])\n",
    "\n",
    "df_list = pd.DataFrame(data_list, columns=['Jenis', 'Berat (Kg)', 'Daur Ulang'])\n",
    "df_list\n"
   ]
  },
  {
   "cell_type": "code",
   "execution_count": null,
   "metadata": {},
   "outputs": [
    {
     "name": "stdout",
     "output_type": "stream",
     "text": [
      "Requirement already satisfied: numpy in c:\\users\\yudha02\\appdata\\local\\programs\\python\\python312\\lib\\site-packages (2.1.2)\n"
     ]
    },
    {
     "name": "stderr",
     "output_type": "stream",
     "text": [
      "\n",
      "[notice] A new release of pip is available: 24.2 -> 24.3.1\n",
      "[notice] To update, run: python.exe -m pip install --upgrade pip\n"
     ]
    }
   ],
   "source": []
  },
  {
   "cell_type": "code",
   "execution_count": null,
   "metadata": {},
   "outputs": [],
   "source": [
    "Angka = int(input(\"Masukan Angka\"))\n",
    "print(Angka)\n",
    "type(Angka)\n"
   ]
  },
  {
   "cell_type": "code",
   "execution_count": null,
   "metadata": {},
   "outputs": [],
   "source": [
    "nama = \"Yudha Robertstein\"\n",
    "nilai = 99\n",
    "\n",
    "print(f\"Pemenang: {nama}, Skor: {nilai}\")"
   ]
  },
  {
   "cell_type": "code",
   "execution_count": null,
   "metadata": {},
   "outputs": [],
   "source": [
    "nama = \"Yudha Robertstein\"\n",
    "nilai = 99\n",
    "\n",
    "print(\"Pemenang:\",nama,\" Skor:\",nilai)"
   ]
  },
  {
   "cell_type": "code",
   "execution_count": null,
   "metadata": {},
   "outputs": [],
   "source": [
    "nama = \"Yudha Robertstein\"\n",
    "nilai = 99\n",
    "\n",
    "print(\"Pemenang: {}, Usia: {}\". format(nama, nilai))"
   ]
  }
 ],
 "metadata": {
  "kernelspec": {
   "display_name": "Python 3",
   "language": "python",
   "name": "python3"
  },
  "language_info": {
   "codemirror_mode": {
    "name": "ipython",
    "version": 3
   },
   "file_extension": ".py",
   "mimetype": "text/x-python",
   "name": "python",
   "nbconvert_exporter": "python",
   "pygments_lexer": "ipython3",
   "version": "3.12.6"
  }
 },
 "nbformat": 4,
 "nbformat_minor": 2
}
